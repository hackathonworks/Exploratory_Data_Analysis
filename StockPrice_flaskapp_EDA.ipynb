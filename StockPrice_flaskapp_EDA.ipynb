{
 "cells": [
  {
   "cell_type": "markdown",
   "id": "2f455ac3-b4d3-45db-9803-2c5518aafeef",
   "metadata": {},
   "source": [
    "# Dynamic Stock Data Analysis and Reporting Web Application \n",
    "## Author: Vaishali Ravindranath\n",
    "\n",
    "Packages: Flask and yFinance\n",
    "\n",
    "**Introduction**\n",
    "This notebook details the development of a web-based application using Flask, integrating the yFinance library for fetching historical stock data based on user input. It guides through creating a user-friendly interface with a form for inputting stock symbols, choosing aggregation intervals, and selecting specific date ranges for analysis. The application dynamically fetches the requested stock data, performs time-series analysis, generates comprehensive reports using pandas profiling, and displays the results in a neatly formatted HTML page. This setup demonstrates the power of combining Python's web development capabilities with financial data analysis and reporting tools to create interactive, data-driven web applications.\n",
    "\n"
   ]
  },
  {
   "cell_type": "markdown",
   "id": "de305d33-cf7c-494f-8e7a-4c3214397b9d",
   "metadata": {},
   "source": [
    "## Install and import libraries"
   ]
  },
  {
   "cell_type": "code",
   "execution_count": 1,
   "id": "2a551e27-c5cc-4c27-8d23-66ff2e7d0a95",
   "metadata": {},
   "outputs": [],
   "source": [
    "#!pip install ydata-profiling\n",
    "#!pip install flask\n",
    "#!pip install yfinance\n",
    "\n",
    "from flask import Flask,render_template_string\n",
    "import yfinance as yf\n",
    "import pandas as pd\n",
    "from flask import Flask, request, jsonify\n",
    "import yfinance as yf\n",
    "from ydata_profiling import ProfileReport"
   ]
  },
  {
   "cell_type": "markdown",
   "id": "f0ddf932-cccc-4162-95b8-d78f2ebb205b",
   "metadata": {},
   "source": [
    "## Flask app with html interfaces\n",
    "dataFlask . The application leverages the `yfinance` library to download historical stock data based on user inputs, which include the stock symbol, data aggregation interval, and the date range for analysis. The application consists of two primary functions:\r\n",
    "\r\n",
    "### 1. Index Function\r\n",
    "- **Route:** `/`\r\n",
    "- **Method:** GET\r\n",
    "- **Description:** This function serves as the entry point of the web application. It renders an HTML form where users can input their parameters for the stock data they wish to analyze. The form includes:\r\n",
    "  - A text box for entering the stock symbol (e.g., AAPL for Apple Inc.).\r\n",
    "  - A drop-down menu for selecting the aggregation interval of the stock data, with options such as daily (`1d`), weekly (`1wk`), monthly (`1mo`), and quarterly (`3mo`).\r\n",
    "  - Date pickers for selecting the start and end dates of the data to be fetched and analyzed.\r\n",
    "\r\n",
    "### 2. Fetch Stock Data Function\r\n",
    "- **Route:** `/fetch_stock_data`\r\n",
    "- **Method:** GET\r\n",
    "- **Description:** This function is triggered when the user submits the form on the index page. It reads the user inputs from the query parameters, fetches the requested stock data using the `yfinance` API with the specified aggregation interval and date range, and then generates a pandas profiling report to perform a time-series Exploratory Data Analysis (EDA) on the fetched data. The function dynamically generates and displays an HTML page that includes:\r\n",
    "  - A title indicating the stock symbol for which data is being displayed.\r\n",
    "  - A paragraph showing the selected date range of the displayed data.\r\n",
    "  - The pandas profiling report, embedded directly into the page, offering a detailed analysis of the stock data, including statistical summaries, plots, and insights into the time-series data.\r\n",
    "\r\n",
    "This web application is a powerful tool for financial analysts, traders, and data enthusiasts who wish to perform quick exploratory data analysis on stock data directly from their web browser, without the need for manual downl cell within your notebook.\n"
   ]
  },
  {
   "cell_type": "code",
   "execution_count": 2,
   "id": "37d77754-a97b-4bb2-94d0-3c9446edb380",
   "metadata": {},
   "outputs": [],
   "source": [
    "app = Flask(__name__)\n",
    "\n",
    "@app.route('/')\n",
    "\n",
    "# Front End\n",
    "def index():\n",
    "    # Render a simple form for input\n",
    "    return render_template_string(\"\"\"\n",
    "    <!DOCTYPE html>\n",
    "    <html>\n",
    "    <head>\n",
    "        <title>Exploratory Data Analysis of Stock Data</title>\n",
    "    </head>\n",
    "    <body>\n",
    "    <h1> ENTER THE STOCK INFORMATION </h1>\n",
    "        <form action=\"/fetch_stock_data\" method=\"get\">\n",
    "            Stock Symbol: <input type=\"text\" name=\"stock_symbol\"><br>\n",
    "            Aggregation:\n",
    "            <select name=\"agg\">\n",
    "                <option value=\"1d\">Daily</option>\n",
    "                <option value=\"1wk\">Weekly</option>\n",
    "                <option value=\"1mo\">Monthly</option>\n",
    "                <option value=\"3mo\">Quarterly</option>\n",
    "            </select><br>\n",
    "            Start Date: <input type=\"date\" name=\"start_date\"><br>\n",
    "            End Date: <input type=\"date\" name=\"end_date\"><br>\n",
    "            <input type=\"submit\" value=\"Submit\">\n",
    "        </form>\n",
    "    </body>\n",
    "    </html>\n",
    "    \"\"\")\n",
    "\n",
    "@app.route('/fetch_stock_data', methods=['GET'])\n",
    "def fetch_stock_data():\n",
    "    stock_symbol = request.args.get('stock_symbol')\n",
    "    agg = request.args.get('agg')  # Aggregation interval\n",
    "    start_date = request.args.get('start_date')\n",
    "    end_date = request.args.get('end_date')\n",
    "\n",
    "    data = yf.download(stock_symbol, start=start_date, end=end_date, interval=agg)\n",
    "    # Generate pandas profiling report\n",
    "    profile = ProfileReport(data,tsmode=True, title=\"Time-Series EDA\")\n",
    "    data_html = profile.to_html()\n",
    "    # Display the data in a basic HTML structure with a table\n",
    "    return render_template_string(\"\"\"\n",
    "    <!DOCTYPE html>\n",
    "    <html>\n",
    "    <head>\n",
    "    <title>Stock Data</title>\n",
    "    </head>\n",
    "    <body bgcolor=\"#f0f8ff\"> <h1 style=\"color: #333; text-align: center;\">Stock Data for {{stock_symbol}}</h1>\n",
    "    <p style=\"color: #999; text-align: center;\">Showing data from {{start_date}} to {{end_date}}</p>{{data_html | safe}}\n",
    "    </body>\n",
    "    </html>\n",
    "    \"\"\", stock_symbol=stock_symbol, start_date=start_date, end_date=end_date, data_html=data_html)\n"
   ]
  },
  {
   "cell_type": "code",
   "execution_count": null,
   "id": "b76daa42-6bcc-4207-8f07-2409ad3eacee",
   "metadata": {},
   "outputs": [
    {
     "name": "stdout",
     "output_type": "stream",
     "text": [
      " * Serving Flask app '__main__'\n",
      " * Debug mode: off\n"
     ]
    },
    {
     "name": "stderr",
     "output_type": "stream",
     "text": [
      "WARNING: This is a development server. Do not use it in a production deployment. Use a production WSGI server instead.\n",
      " * Running on http://127.0.0.1:5000\n",
      "Press CTRL+C to quit\n",
      "[*********************100%%**********************]  1 of 1 completed\n"
     ]
    },
    {
     "data": {
      "application/vnd.jupyter.widget-view+json": {
       "model_id": "ac58b5da035746f5ae848930d855ec7a",
       "version_major": 2,
       "version_minor": 0
      },
      "text/plain": [
       "Summarize dataset:   0%|          | 0/5 [00:00<?, ?it/s]"
      ]
     },
     "metadata": {},
     "output_type": "display_data"
    },
    {
     "data": {
      "application/vnd.jupyter.widget-view+json": {
       "model_id": "9560d83e4b2e403db61f838ab77a2a5c",
       "version_major": 2,
       "version_minor": 0
      },
      "text/plain": [
       "Generate report structure:   0%|          | 0/1 [00:00<?, ?it/s]"
      ]
     },
     "metadata": {},
     "output_type": "display_data"
    },
    {
     "data": {
      "application/vnd.jupyter.widget-view+json": {
       "model_id": "c598fa7299894831b4349c58a64301ac",
       "version_major": 2,
       "version_minor": 0
      },
      "text/plain": [
       "Render HTML:   0%|          | 0/1 [00:00<?, ?it/s]"
      ]
     },
     "metadata": {},
     "output_type": "display_data"
    },
    {
     "name": "stderr",
     "output_type": "stream",
     "text": [
      "127.0.0.1 - - [09/Mar/2024 06:09:52] \"GET /fetch_stock_data?stock_symbol=IBRX&agg=1wk&start_date=2023-01-01&end_date=2024-03-09 HTTP/1.1\" 200 -\n",
      "[*********************100%%**********************]  1 of 1 completed\n"
     ]
    },
    {
     "data": {
      "application/vnd.jupyter.widget-view+json": {
       "model_id": "129e4d7333444118b150636856e3585d",
       "version_major": 2,
       "version_minor": 0
      },
      "text/plain": [
       "Summarize dataset:   0%|          | 0/5 [00:00<?, ?it/s]"
      ]
     },
     "metadata": {},
     "output_type": "display_data"
    },
    {
     "data": {
      "application/vnd.jupyter.widget-view+json": {
       "model_id": "29be7404f02640968271c94bdab7d361",
       "version_major": 2,
       "version_minor": 0
      },
      "text/plain": [
       "Generate report structure:   0%|          | 0/1 [00:00<?, ?it/s]"
      ]
     },
     "metadata": {},
     "output_type": "display_data"
    },
    {
     "data": {
      "application/vnd.jupyter.widget-view+json": {
       "model_id": "16039e6970db439b947d2792afa757fa",
       "version_major": 2,
       "version_minor": 0
      },
      "text/plain": [
       "Render HTML:   0%|          | 0/1 [00:00<?, ?it/s]"
      ]
     },
     "metadata": {},
     "output_type": "display_data"
    },
    {
     "name": "stderr",
     "output_type": "stream",
     "text": [
      "127.0.0.1 - - [09/Mar/2024 06:12:37] \"GET /fetch_stock_data?stock_symbol=IBRX&agg=1wk&start_date=2023-01-01&end_date=2024-03-09 HTTP/1.1\" 200 -\n"
     ]
    }
   ],
   "source": [
    "if __name__ == '__main__':\n",
    "    app.run()\n",
    "\n",
    "#Check the app\n",
    "#Test case 1: paste the below link in browser and check.     \n",
    "#http://127.0.0.1:5000/fetch_stock_data?stock_symbol=AAPL&agg=1mo&start_date=2020-01-01&end_date=2023-01-31\n",
    "#(or)\n",
    "#http://localhost:5000/fetch_stock_data?stock_symbol=AAPL&agg=1mo&start_date=2020-01-01&end_date=2023-01-31"
   ]
  },
  {
   "cell_type": "code",
   "execution_count": null,
   "id": "dafc568c-c2fe-4b48-b513-78a8efbd0c0e",
   "metadata": {},
   "outputs": [],
   "source": [
    "#incase if there is any error, stop and restart the jupyter kernel.\n",
    "#check port accessibility\n",
    "#This code was executed in windows pc, local jupyter notebook\n",
    "#while running in google colab or any cloud environment, the local host settings might require change"
   ]
  },
  {
   "cell_type": "code",
   "execution_count": null,
   "id": "f95a4afe-c2c3-47e8-9bce-f689c829624f",
   "metadata": {},
   "outputs": [],
   "source": []
  }
 ],
 "metadata": {
  "kernelspec": {
   "display_name": "Python 3 (ipykernel)",
   "language": "python",
   "name": "python3"
  },
  "language_info": {
   "codemirror_mode": {
    "name": "ipython",
    "version": 3
   },
   "file_extension": ".py",
   "mimetype": "text/x-python",
   "name": "python",
   "nbconvert_exporter": "python",
   "pygments_lexer": "ipython3",
   "version": "3.11.7"
  }
 },
 "nbformat": 4,
 "nbformat_minor": 5
}
